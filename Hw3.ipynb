{
 "cells": [
  {
   "cell_type": "code",
   "execution_count": 14,
   "outputs": [],
   "source": [
    "import numpy as np\n",
    "from sklearn.linear_model import LinearRegression\n",
    "from sklearn.metrics import mean_squared_error\n",
    "#Функцію гіпотези лінійної регресії у векторному вигляді\n",
    "def linear_regression_hypothesis(X, w):\n",
    "    return X @ w"
   ],
   "metadata": {
    "collapsed": false,
    "ExecuteTime": {
     "end_time": "2023-11-20T12:20:14.870030Z",
     "start_time": "2023-11-20T12:20:14.841762Z"
    }
   },
   "id": "767e65193337e97d"
  },
  {
   "cell_type": "code",
   "execution_count": 15,
   "outputs": [],
   "source": [
    "#Функція для обчислення втрат у векторному вигляді\n",
    "def compute_cost(predictions, y):\n",
    "    cost = np.sum((predictions - y) ** 2)/ 2.0\n",
    "    return cost"
   ],
   "metadata": {
    "collapsed": false,
    "ExecuteTime": {
     "end_time": "2023-11-20T12:20:14.871171Z",
     "start_time": "2023-11-20T12:20:14.845787Z"
    }
   },
   "id": "402358b0fa962c19"
  },
  {
   "cell_type": "code",
   "execution_count": 16,
   "outputs": [],
   "source": [
    "#Один крок градієнтного спуску\n",
    "def gradient_descent_step(X, y, w, learning_rate):\n",
    "    predictions = linear_regression_hypothesis(X, w)\n",
    "    errors = predictions - y\n",
    "    gradient = X.T @ errors / len(y)\n",
    "    w -= learning_rate * gradient\n",
    "    return w"
   ],
   "metadata": {
    "collapsed": false,
    "ExecuteTime": {
     "end_time": "2023-11-20T12:20:14.878644Z",
     "start_time": "2023-11-20T12:20:14.849894Z"
    }
   },
   "id": "dbb1cd202e6bd1a1"
  },
  {
   "cell_type": "code",
   "execution_count": 17,
   "outputs": [
    {
     "name": "stderr",
     "output_type": "stream",
     "text": [
      "Downloading...\n",
      "From: https://drive.google.com/uc?id=1-rAa4XT4_fI0dOBlMNuE6a7jB0wln_Qo\n",
      "To: /Users/macbookair/PycharmProjects/Machine_Learning/dataset.csv\n",
      "100%|██████████| 30.0k/30.0k [00:00<00:00, 26.9MB/s]"
     ]
    },
    {
     "name": "stdout",
     "output_type": "stream",
     "text": [
      "Parameters (Gradient Descent): [1.70883182e-01 8.18216804e+02 2.55823501e-01 5.42779647e-01]\n",
      "Cost (Gradient Descent): 847734113899.9099\n"
     ]
    },
    {
     "name": "stderr",
     "output_type": "stream",
     "text": [
      "\n"
     ]
    }
   ],
   "source": [
    "#Знайдіть найкращі параметри для датасету прогнозуючу ціну на будинок залежно від площі, кількості ванних кімнат та кількості спалень;\n",
    "import gdown\n",
    "import pandas as pd\n",
    "file_id = '1-rAa4XT4_fI0dOBlMNuE6a7jB0wln_Qo'\n",
    "url = f'https://drive.google.com/uc?id={file_id}'\n",
    "output = 'dataset.csv'\n",
    "gdown.download(url, output, quiet=False)\n",
    "\n",
    "df = pd.read_csv('dataset.csv')\n",
    "X = df[['area', 'bathrooms', 'bedrooms']]\n",
    "y = df['price']\n",
    "X_extended = np.c_[np.ones((len(X), 1)), X]\n",
    "w_gradient_descent = np.zeros(X_extended.shape[1])\n",
    "\n",
    "learning_rate = 1e-10\n",
    "num_iterations = 1000\n",
    "\n",
    "\n",
    "for iteration in range(num_iterations):\n",
    "    predictions_gradient_descent = X_extended @ w_gradient_descent\n",
    "    errors = predictions_gradient_descent - y\n",
    "    gradient = X_extended.T @ errors / len(y)\n",
    "    gradient[np.isnan(gradient) | np.isinf(gradient)] = 0\n",
    "\n",
    "    w_gradient_descent -= learning_rate * gradient\n",
    "\n",
    "print(\"Parameters (Gradient Descent):\", w_gradient_descent)\n",
    "cost_gradient_descent = mean_squared_error(y, predictions_gradient_descent) / 4.0\n",
    "print(\"Cost (Gradient Descent):\", cost_gradient_descent)"
   ],
   "metadata": {
    "collapsed": false,
    "ExecuteTime": {
     "end_time": "2023-11-20T12:20:16.328893Z",
     "start_time": "2023-11-20T12:20:14.863961Z"
    }
   },
   "id": "75562a5ac623d733"
  },
  {
   "cell_type": "code",
   "execution_count": 18,
   "outputs": [
    {
     "name": "stdout",
     "output_type": "stream",
     "text": [
      "Parameters (Analytical Solution): [-1.73171608e+05  3.78762754e+02  1.38604950e+06  4.06820034e+05]\n",
      "Cost (Analytical Solution): 895585024988.6595\n"
     ]
    }
   ],
   "source": [
    "#Знайдіть ці ж параметри за допомогою аналітичного рішення;\n",
    "w_analytical = np.linalg.inv(X_extended.T @ X_extended) @ X_extended.T @ y\n",
    "\n",
    "print(\"Parameters (Analytical Solution):\", w_analytical)\n",
    "predictions_analytical = X_extended @ w_analytical\n",
    "cost_analytical = mean_squared_error(y, predictions_analytical) / 2.0\n",
    "print(\"Cost (Analytical Solution):\", cost_analytical)"
   ],
   "metadata": {
    "collapsed": false,
    "ExecuteTime": {
     "end_time": "2023-11-20T12:20:16.453652Z",
     "start_time": "2023-11-20T12:20:16.404142Z"
    }
   },
   "id": "57582248782c1747"
  },
  {
   "cell_type": "code",
   "execution_count": 19,
   "outputs": [
    {
     "name": "stdout",
     "output_type": "stream",
     "text": [
      "\n",
      "Comparison:\n",
      "Parameters (Gradient Descent): [1.70883182e-01 8.18216804e+02 2.55823501e-01 5.42779647e-01]\n",
      "Parameters (Analytical Solution): [-1.73171608e+05  3.78762754e+02  1.38604950e+06  4.06820034e+05]\n",
      "\n",
      "Cost (Gradient Descent): 847734113899.9099\n",
      "Cost (Analytical Solution): 895585024988.6595\n"
     ]
    }
   ],
   "source": [
    "#Порівняння результатів\n",
    "print(\"\\nComparison:\")\n",
    "print(\"Parameters (Gradient Descent):\", w_gradient_descent)\n",
    "print(\"Parameters (Analytical Solution):\", w_analytical)\n",
    "print(\"\\nCost (Gradient Descent):\", cost_gradient_descent)\n",
    "print(\"Cost (Analytical Solution):\", cost_analytical)"
   ],
   "metadata": {
    "collapsed": false,
    "ExecuteTime": {
     "end_time": "2023-11-20T12:20:16.455647Z",
     "start_time": "2023-11-20T12:20:16.443237Z"
    }
   },
   "id": "6463678784c346f2"
  }
 ],
 "metadata": {
  "kernelspec": {
   "display_name": "Python 3",
   "language": "python",
   "name": "python3"
  },
  "language_info": {
   "codemirror_mode": {
    "name": "ipython",
    "version": 2
   },
   "file_extension": ".py",
   "mimetype": "text/x-python",
   "name": "python",
   "nbconvert_exporter": "python",
   "pygments_lexer": "ipython2",
   "version": "2.7.6"
  }
 },
 "nbformat": 4,
 "nbformat_minor": 5
}
