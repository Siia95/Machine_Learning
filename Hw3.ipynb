{
 "cells": [
  {
   "cell_type": "code",
   "execution_count": 4,
   "id": "initial_id",
   "metadata": {
    "collapsed": true,
    "ExecuteTime": {
     "end_time": "2023-11-18T12:54:43.000554Z",
     "start_time": "2023-11-18T12:54:42.053705Z"
    }
   },
   "outputs": [
    {
     "name": "stdout",
     "output_type": "stream",
     "text": [
      "Iteration 0: Loss = 7080821888985.328\n",
      "Iteration 100: Loss = 1673378701878.147\n",
      "Iteration 200: Loss = 1673376126866.1118\n",
      "Iteration 300: Loss = 1673373551863.9417\n",
      "Iteration 400: Loss = 1673370976871.6365\n",
      "Iteration 500: Loss = 1673368401889.1978\n",
      "Iteration 600: Loss = 1673365826916.6245\n",
      "Iteration 700: Loss = 1673363251953.9163\n",
      "Iteration 800: Loss = 1673360677001.073\n",
      "Iteration 900: Loss = 1673358102058.0964\n",
      "Final theta: [[  3.73468893]\n",
      " [855.70066076]\n",
      " [ 14.05312415]\n",
      " [  7.85944397]]\n",
      "Analitic theta: [[-1.73171608e+05]\n",
      " [ 3.78762754e+02]\n",
      " [ 4.06820034e+05]\n",
      " [ 1.38604950e+06]]\n"
     ]
    }
   ],
   "source": [
    "import numpy as np\n",
    "import pandas as pd\n",
    "\n",
    "\n",
    "df = pd.read_csv(\"Housing.csv\")\n",
    "selected_features = [\"area\", \"bedrooms\", \"bathrooms\"]\n",
    "\n",
    "X = df[selected_features].values\n",
    "\n",
    "ones_column = np.ones((X.shape[0], 1))\n",
    "\n",
    "#Матриця ознак\n",
    "X = np.concatenate((ones_column, X), axis=1).astype(\"int64\")\n",
    "\n",
    "# Змінна\n",
    "y = df[\"price\"].values.reshape(-1, 1)\n",
    "\n",
    "# Початкові параметри ваг\n",
    "theta = np.zeros((X.shape[1], 1))\n",
    "\n",
    "# Функція гіпотези регресії\n",
    "def hypothesis(theta, X):\n",
    "    return np.dot(X, theta)\n",
    "# Функція втрат \n",
    "def cost_function(theta, X, y):\n",
    "    m = len(y)\n",
    "    predictions = hypothesis(theta, X)\n",
    "    return (1 / (2 * m)) * np.sum(np.square(predictions - y))\n",
    "\n",
    "\n",
    "# Градієнтиний спуск\n",
    "def gradient_descent_step(theta, X, y, learning_rate):\n",
    "    m = len(y)\n",
    "    predictions = hypothesis(theta, X)\n",
    "    gradient = np.dot(X.T, (predictions - y)) / m\n",
    "    theta -= learning_rate * gradient\n",
    "    return theta\n",
    "\n",
    "\n",
    "# Параметри навчання\n",
    "learning_rate = 0.00000001 # крок\n",
    "num_iterations = 1000  # кількість ітерацій\n",
    "\n",
    "# Цикл градієнтного спуска\n",
    "for i in range(num_iterations):\n",
    "    theta = gradient_descent_step(theta, X, y, learning_rate)\n",
    "\n",
    "    loss = cost_function(theta, X, y)\n",
    "    if i % 100 == 0:\n",
    "        print(f\"Iteration {i}: Loss = {loss}\")\n",
    "# Значення theta після навчання\n",
    "print(\"Final theta:\", theta)\n",
    "\n",
    "# Аналітичний метод\n",
    "theta_analitic = np.linalg.inv(X.T @ X) @ X.T @ y\n",
    "print(\"Analitic theta:\", theta_analitic)"
   ]
  },
  {
   "cell_type": "code",
   "execution_count": null,
   "outputs": [],
   "source": [],
   "metadata": {
    "collapsed": false
   },
   "id": "e881ae9ba67c9dac"
  }
 ],
 "metadata": {
  "kernelspec": {
   "display_name": "Python 3",
   "language": "python",
   "name": "python3"
  },
  "language_info": {
   "codemirror_mode": {
    "name": "ipython",
    "version": 2
   },
   "file_extension": ".py",
   "mimetype": "text/x-python",
   "name": "python",
   "nbconvert_exporter": "python",
   "pygments_lexer": "ipython2",
   "version": "2.7.6"
  }
 },
 "nbformat": 4,
 "nbformat_minor": 5
}
